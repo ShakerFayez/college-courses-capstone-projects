{
 "cells": [
  {
   "cell_type": "code",
   "execution_count": 1,
   "metadata": {},
   "outputs": [],
   "source": [
    "import pandas as pd"
   ]
  },
  {
   "cell_type": "code",
   "execution_count": 9,
   "metadata": {},
   "outputs": [],
   "source": [
    "df3 = pd.read_csv(\"E:\\\\mostly_rock.csv\")\n",
    "df1 = pd.read_csv(\"E:\\\\metal_archive_pt1.csv\")\n",
    "df2 = pd.read_csv(\"E:\\\\metal_archive_pt2.csv\")"
   ]
  },
  {
   "cell_type": "code",
   "execution_count": 10,
   "metadata": {},
   "outputs": [],
   "source": [
    "df = pd.concat([df1, df2, df3], ignore_index=True)\n",
    "del df1, df2, df3"
   ]
  },
  {
   "cell_type": "code",
   "execution_count": 14,
   "metadata": {},
   "outputs": [
    {
     "data": {
      "text/html": [
       "<div>\n",
       "<style scoped>\n",
       "    .dataframe tbody tr th:only-of-type {\n",
       "        vertical-align: middle;\n",
       "    }\n",
       "\n",
       "    .dataframe tbody tr th {\n",
       "        vertical-align: top;\n",
       "    }\n",
       "\n",
       "    .dataframe thead th {\n",
       "        text-align: right;\n",
       "    }\n",
       "</style>\n",
       "<table border=\"1\" class=\"dataframe\">\n",
       "  <thead>\n",
       "    <tr style=\"text-align: right;\">\n",
       "      <th></th>\n",
       "      <th>Spotify ID</th>\n",
       "      <th>Artist IDs</th>\n",
       "      <th>Track Name</th>\n",
       "      <th>Album Name</th>\n",
       "      <th>Artist Name(s)</th>\n",
       "      <th>Release Date</th>\n",
       "      <th>Duration (ms)</th>\n",
       "      <th>Popularity</th>\n",
       "      <th>Added By</th>\n",
       "      <th>Added At</th>\n",
       "      <th>...</th>\n",
       "      <th>Key</th>\n",
       "      <th>Loudness</th>\n",
       "      <th>Mode</th>\n",
       "      <th>Speechiness</th>\n",
       "      <th>Acousticness</th>\n",
       "      <th>Instrumentalness</th>\n",
       "      <th>Liveness</th>\n",
       "      <th>Valence</th>\n",
       "      <th>Tempo</th>\n",
       "      <th>Time Signature</th>\n",
       "    </tr>\n",
       "  </thead>\n",
       "  <tbody>\n",
       "    <tr>\n",
       "      <th>0</th>\n",
       "      <td>19vHgVS1aukRiQWhTqfKnE</td>\n",
       "      <td>1Ffb6ejR6Fe5IamqA5oRUF</td>\n",
       "      <td>DArkSide</td>\n",
       "      <td>DArkSide</td>\n",
       "      <td>Bring Me The Horizon</td>\n",
       "      <td>10/18/2023</td>\n",
       "      <td>164790</td>\n",
       "      <td>74</td>\n",
       "      <td>spotify:user:woth5clwe5p856iw52alp7uek</td>\n",
       "      <td>2023-10-25T13:10:28Z</td>\n",
       "      <td>...</td>\n",
       "      <td>7</td>\n",
       "      <td>-3.018</td>\n",
       "      <td>1</td>\n",
       "      <td>0.1460</td>\n",
       "      <td>0.000352</td>\n",
       "      <td>0.000003</td>\n",
       "      <td>0.628</td>\n",
       "      <td>0.456</td>\n",
       "      <td>167.910</td>\n",
       "      <td>4</td>\n",
       "    </tr>\n",
       "    <tr>\n",
       "      <th>1</th>\n",
       "      <td>5BgnL6gHauuvxe4Ok6W1aC</td>\n",
       "      <td>1Ffb6ejR6Fe5IamqA5oRUF</td>\n",
       "      <td>LosT</td>\n",
       "      <td>LosT</td>\n",
       "      <td>Bring Me The Horizon</td>\n",
       "      <td>5/4/2023</td>\n",
       "      <td>205368</td>\n",
       "      <td>72</td>\n",
       "      <td>spotify:user:woth5clwe5p856iw52alp7uek</td>\n",
       "      <td>2023-10-25T13:10:28Z</td>\n",
       "      <td>...</td>\n",
       "      <td>9</td>\n",
       "      <td>-3.155</td>\n",
       "      <td>0</td>\n",
       "      <td>0.2270</td>\n",
       "      <td>0.000285</td>\n",
       "      <td>0.000000</td>\n",
       "      <td>0.212</td>\n",
       "      <td>0.390</td>\n",
       "      <td>185.081</td>\n",
       "      <td>4</td>\n",
       "    </tr>\n",
       "    <tr>\n",
       "      <th>2</th>\n",
       "      <td>0M3adYbGtyRHACP86dey1H</td>\n",
       "      <td>1Ffb6ejR6Fe5IamqA5oRUF</td>\n",
       "      <td>Throne</td>\n",
       "      <td>That's The Spirit</td>\n",
       "      <td>Bring Me The Horizon</td>\n",
       "      <td>9/11/2015</td>\n",
       "      <td>191520</td>\n",
       "      <td>76</td>\n",
       "      <td>spotify:user:woth5clwe5p856iw52alp7uek</td>\n",
       "      <td>2023-10-25T13:10:28Z</td>\n",
       "      <td>...</td>\n",
       "      <td>0</td>\n",
       "      <td>-3.720</td>\n",
       "      <td>0</td>\n",
       "      <td>0.0987</td>\n",
       "      <td>0.000455</td>\n",
       "      <td>0.000000</td>\n",
       "      <td>0.306</td>\n",
       "      <td>0.387</td>\n",
       "      <td>144.111</td>\n",
       "      <td>4</td>\n",
       "    </tr>\n",
       "    <tr>\n",
       "      <th>3</th>\n",
       "      <td>5fpq1wF8xa5tSSlcKHdmGQ</td>\n",
       "      <td>1Ffb6ejR6Fe5IamqA5oRUF</td>\n",
       "      <td>sTraNgeRs</td>\n",
       "      <td>sTraNgeRs</td>\n",
       "      <td>Bring Me The Horizon</td>\n",
       "      <td>7/6/2022</td>\n",
       "      <td>195747</td>\n",
       "      <td>70</td>\n",
       "      <td>spotify:user:woth5clwe5p856iw52alp7uek</td>\n",
       "      <td>2023-10-25T13:10:28Z</td>\n",
       "      <td>...</td>\n",
       "      <td>5</td>\n",
       "      <td>-3.061</td>\n",
       "      <td>1</td>\n",
       "      <td>0.1820</td>\n",
       "      <td>0.000231</td>\n",
       "      <td>0.000000</td>\n",
       "      <td>0.433</td>\n",
       "      <td>0.526</td>\n",
       "      <td>183.147</td>\n",
       "      <td>3</td>\n",
       "    </tr>\n",
       "    <tr>\n",
       "      <th>4</th>\n",
       "      <td>0WSa1sucoNRcEeULlZVQXj</td>\n",
       "      <td>1Ffb6ejR6Fe5IamqA5oRUF</td>\n",
       "      <td>Can You Feel My Heart</td>\n",
       "      <td>Sempiternal (Expanded Edition)</td>\n",
       "      <td>Bring Me The Horizon</td>\n",
       "      <td>4/1/2013</td>\n",
       "      <td>228146</td>\n",
       "      <td>78</td>\n",
       "      <td>spotify:user:woth5clwe5p856iw52alp7uek</td>\n",
       "      <td>2023-10-25T13:10:28Z</td>\n",
       "      <td>...</td>\n",
       "      <td>4</td>\n",
       "      <td>-2.827</td>\n",
       "      <td>0</td>\n",
       "      <td>0.0595</td>\n",
       "      <td>0.002010</td>\n",
       "      <td>0.194000</td>\n",
       "      <td>0.387</td>\n",
       "      <td>0.354</td>\n",
       "      <td>170.527</td>\n",
       "      <td>5</td>\n",
       "    </tr>\n",
       "  </tbody>\n",
       "</table>\n",
       "<p>5 rows × 23 columns</p>\n",
       "</div>"
      ],
      "text/plain": [
       "               Spotify ID              Artist IDs             Track Name  \\\n",
       "0  19vHgVS1aukRiQWhTqfKnE  1Ffb6ejR6Fe5IamqA5oRUF               DArkSide   \n",
       "1  5BgnL6gHauuvxe4Ok6W1aC  1Ffb6ejR6Fe5IamqA5oRUF                   LosT   \n",
       "2  0M3adYbGtyRHACP86dey1H  1Ffb6ejR6Fe5IamqA5oRUF                 Throne   \n",
       "3  5fpq1wF8xa5tSSlcKHdmGQ  1Ffb6ejR6Fe5IamqA5oRUF              sTraNgeRs   \n",
       "4  0WSa1sucoNRcEeULlZVQXj  1Ffb6ejR6Fe5IamqA5oRUF  Can You Feel My Heart   \n",
       "\n",
       "                       Album Name        Artist Name(s) Release Date  \\\n",
       "0                        DArkSide  Bring Me The Horizon   10/18/2023   \n",
       "1                            LosT  Bring Me The Horizon     5/4/2023   \n",
       "2               That's The Spirit  Bring Me The Horizon    9/11/2015   \n",
       "3                       sTraNgeRs  Bring Me The Horizon     7/6/2022   \n",
       "4  Sempiternal (Expanded Edition)  Bring Me The Horizon     4/1/2013   \n",
       "\n",
       "   Duration (ms)  Popularity                                Added By  \\\n",
       "0         164790          74  spotify:user:woth5clwe5p856iw52alp7uek   \n",
       "1         205368          72  spotify:user:woth5clwe5p856iw52alp7uek   \n",
       "2         191520          76  spotify:user:woth5clwe5p856iw52alp7uek   \n",
       "3         195747          70  spotify:user:woth5clwe5p856iw52alp7uek   \n",
       "4         228146          78  spotify:user:woth5clwe5p856iw52alp7uek   \n",
       "\n",
       "               Added At  ... Key  Loudness  Mode  Speechiness  Acousticness  \\\n",
       "0  2023-10-25T13:10:28Z  ...   7    -3.018     1       0.1460      0.000352   \n",
       "1  2023-10-25T13:10:28Z  ...   9    -3.155     0       0.2270      0.000285   \n",
       "2  2023-10-25T13:10:28Z  ...   0    -3.720     0       0.0987      0.000455   \n",
       "3  2023-10-25T13:10:28Z  ...   5    -3.061     1       0.1820      0.000231   \n",
       "4  2023-10-25T13:10:28Z  ...   4    -2.827     0       0.0595      0.002010   \n",
       "\n",
       "   Instrumentalness  Liveness  Valence    Tempo  Time Signature  \n",
       "0          0.000003     0.628    0.456  167.910               4  \n",
       "1          0.000000     0.212    0.390  185.081               4  \n",
       "2          0.000000     0.306    0.387  144.111               4  \n",
       "3          0.000000     0.433    0.526  183.147               3  \n",
       "4          0.194000     0.387    0.354  170.527               5  \n",
       "\n",
       "[5 rows x 23 columns]"
      ]
     },
     "execution_count": 14,
     "metadata": {},
     "output_type": "execute_result"
    }
   ],
   "source": [
    "df.head()"
   ]
  },
  {
   "cell_type": "code",
   "execution_count": 17,
   "metadata": {},
   "outputs": [
    {
     "data": {
      "text/plain": [
       "1871"
      ]
     },
     "execution_count": 17,
     "metadata": {},
     "output_type": "execute_result"
    }
   ],
   "source": [
    "df['Artist Name(s)'].nunique()"
   ]
  },
  {
   "cell_type": "code",
   "execution_count": 18,
   "metadata": {},
   "outputs": [
    {
     "data": {
      "text/plain": [
       "Artist Name(s)\n",
       "Metallica            208\n",
       "Burzum               201\n",
       "Slayer               199\n",
       "Kreator              178\n",
       "Three Days Grace     165\n",
       "Slipknot             164\n",
       "System Of A Down     160\n",
       "Avenged Sevenfold    156\n",
       "My Dying Bride       137\n",
       "In Flames            136\n",
       "Name: count, dtype: int64"
      ]
     },
     "execution_count": 18,
     "metadata": {},
     "output_type": "execute_result"
    }
   ],
   "source": [
    "df['Artist Name(s)'].value_counts().head(10)"
   ]
  },
  {
   "cell_type": "code",
   "execution_count": 19,
   "metadata": {},
   "outputs": [
    {
     "data": {
      "text/plain": [
       "3367"
      ]
     },
     "execution_count": 19,
     "metadata": {},
     "output_type": "execute_result"
    }
   ],
   "source": [
    "df[['Track Name', 'Artist Name(s)']].duplicated().sum()"
   ]
  },
  {
   "cell_type": "code",
   "execution_count": null,
   "metadata": {},
   "outputs": [],
   "source": []
  }
 ],
 "metadata": {
  "kernelspec": {
   "display_name": "ds",
   "language": "python",
   "name": "python3"
  },
  "language_info": {
   "codemirror_mode": {
    "name": "ipython",
    "version": 3
   },
   "file_extension": ".py",
   "mimetype": "text/x-python",
   "name": "python",
   "nbconvert_exporter": "python",
   "pygments_lexer": "ipython3",
   "version": "3.12.1"
  }
 },
 "nbformat": 4,
 "nbformat_minor": 2
}
